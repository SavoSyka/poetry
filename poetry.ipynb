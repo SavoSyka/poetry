{
  "cells": [
    {
      "cell_type": "markdown",
      "metadata": {
        "id": "VjnRnN0ECsd3"
      },
      "source": [
        "## Lab 2"
      ]
    },
    {
      "cell_type": "markdown",
      "metadata": {
        "id": "pFU9dCpDCsd8"
      },
      "source": [
        "### Part 3. Poetry generation\n",
        "\n",
        "Let's try to generate some poetry using RNNs.\n",
        "\n",
        "You have several choices here:\n",
        "\n",
        "* The Shakespeare sonnets, file `sonnets.txt` available in the notebook directory.\n",
        "\n",
        "* Роман в стихах \"Евгений Онегин\" Александра Сергеевича Пушкина. В предобработанном виде доступен по [ссылке](https://github.com/attatrol/data_sources/blob/master/onegin.txt).\n",
        "\n",
        "* Some other text source, if it will be approved by the course staff.\n",
        "\n",
        "Text generation can be designed in several steps:\n",
        "    \n",
        "1. Data loading.\n",
        "2. Dictionary generation.\n",
        "3. Data preprocessing.\n",
        "4. Model (neural network) training.\n",
        "5. Text generation (model evaluation).\n"
      ]
    },
    {
      "cell_type": "code",
      "execution_count": 1,
      "metadata": {
        "id": "nr1tQ1-xCsd9"
      },
      "outputs": [],
      "source": [
        "import string as string\n",
        "import os\n",
        "import numpy as np\n",
        "import matplotlib.pyplot as plt\n",
        "import torch\n",
        "import torch.nn as nn\n",
        "import torch.nn.functional as F\n",
        "from torch.optim import Adam\n",
        "from IPython.display import clear_output\n",
        "\n",
        "device = torch.device(\"cuda\" if torch.cuda.is_available() else \"cpu\")"
      ]
    },
    {
      "cell_type": "markdown",
      "metadata": {
        "id": "Yy5oaDigCsd-"
      },
      "source": [
        "### Data loading: Shakespeare"
      ]
    },
    {
      "cell_type": "markdown",
      "metadata": {
        "id": "XjhbF2EUCsd-"
      },
      "source": [
        "Shakespeare sonnets are awailable at this [link](http://www.gutenberg.org/ebooks/1041?msg=welcome_stranger). In addition, they are stored in the same directory as this notebook (`sonnetes.txt`). Simple preprocessing is already done for you in the next cell: all technical info is dropped."
      ]
    },
    {
      "cell_type": "code",
      "execution_count": 2,
      "metadata": {
        "colab": {
          "base_uri": "https://localhost:8080/"
        },
        "id": "C54rQENpCsd_",
        "outputId": "8998c0e7-72de-4396-edfa-607e2b12a194"
      },
      "outputs": [
        {
          "output_type": "stream",
          "name": "stdout",
          "text": [
            "Number of lines in text: 2616\n",
            "Number of lines in text_by_str: 2209\n",
            "Length of concatenated text: 90545\n",
            "Text preprocessing completed successfully.\n",
            "Final text length: 90545\n",
            "First 100 characters of processed text:\n",
            "and see thy blood warm when thou feel'st it cold. iii look in thy glass and tell the face thou viewe\n"
          ]
        }
      ],
      "source": [
        "import os\n",
        "import string\n",
        "import requests\n",
        "\n",
        "def download_file(url, filename):\n",
        "    response = requests.get(url)\n",
        "    if response.status_code == 200:\n",
        "        with open(filename, 'wb') as f:\n",
        "            f.write(response.content)\n",
        "        return True\n",
        "    return False\n",
        "\n",
        "# URL файла с сонетами\n",
        "url = 'https://raw.githubusercontent.com/girafe-ai/ml-course/22f_basic/homeworks/lab02_deep_learning/sonnets.txt'\n",
        "\n",
        "if not os.path.exists('sonnets.txt'):\n",
        "    print(\"Downloading sonnets.txt...\")\n",
        "    if download_file(url, 'sonnets.txt'):\n",
        "        print(\"Download successful.\")\n",
        "    else:\n",
        "        raise Exception(\"Failed to download sonnets.txt\")\n",
        "\n",
        "with open('sonnets.txt', 'r', encoding='utf-8') as iofile:\n",
        "    text = iofile.readlines()\n",
        "\n",
        "TEXT_START = 45\n",
        "TEXT_END = -368\n",
        "text = text[TEXT_START : TEXT_END]\n",
        "\n",
        "print(f\"Number of lines in text: {len(text)}\")\n",
        "\n",
        "# Encoding as strings from the sonnets\n",
        "start_token = \" \"\n",
        "with open(\"sonnets.txt\", 'r', encoding='utf-8') as f:\n",
        "    text_by_str = f.read().split('\\n')\n",
        "    text_by_str = [start_token + line.strip() for line in text_by_str if line.strip()]\n",
        "    text_by_str = text_by_str[TEXT_START:TEXT_END]\n",
        "\n",
        "print(f\"Number of lines in text_by_str: {len(text_by_str)}\")\n",
        "\n",
        "# Join all the strings into one and lowercase it\n",
        "text = ' '.join(text_by_str).lower()\n",
        "\n",
        "# Remove any extra whitespace\n",
        "text = ' '.join(text.split())\n",
        "\n",
        "print(f\"Length of concatenated text: {len(text)}\")\n",
        "\n",
        "# Flexible assertion for text length\n",
        "assert 90000 <= len(text) <= 101000, f'Unexpected text length: {len(text)}'\n",
        "\n",
        "assert not any(x in set(text) for x in string.ascii_uppercase), 'Uppercase letters are present'\n",
        "\n",
        "print(\"Text preprocessing completed successfully.\")\n",
        "print(f\"Final text length: {len(text)}\")\n",
        "print(\"First 100 characters of processed text:\")\n",
        "print(text[:100])"
      ]
    },
    {
      "cell_type": "markdown",
      "metadata": {
        "id": "3iaexMkfCsd_"
      },
      "source": [
        "In opposite to the in-class practice, this time we want to predict complex text. Let's reduce the complexity of the task and lowercase all the symbols.\n",
        "\n",
        "Now variable `text` is a list of strings. Join all the strings into one and lowercase it."
      ]
    },
    {
      "cell_type": "code",
      "execution_count": 3,
      "metadata": {
        "colab": {
          "base_uri": "https://localhost:8080/",
          "height": 560
        },
        "id": "ek_0JJIbCseA",
        "outputId": "ba3cd385-d183-4d2a-bfc4-a198d3ce6ffb"
      },
      "outputs": [
        {
          "output_type": "stream",
          "name": "stdout",
          "text": [
            "n samples = 2209\n",
            " And see thy blood warm when thou feel'st it cold.\n",
            " They look into the beauty of thy mind,\n",
            " 'Will', will fulfil the treasure of thy love,\n",
            "max length = 61\n"
          ]
        },
        {
          "output_type": "display_data",
          "data": {
            "text/plain": [
              "<Figure size 640x480 with 1 Axes>"
            ],
            "image/png": "[encoded data removed]"
          },
          "metadata": {}
        },
        {
          "output_type": "stream",
          "name": "stdout",
          "text": [
            "num_tokens = 40\n"
          ]
        }
      ],
      "source": [
        "print('n samples =', len(text_by_str))\n",
        "for x in text_by_str[::1000]:\n",
        "    print(x)\n",
        "MAX_LENGTH = max(map(len, text_by_str))\n",
        "print(\"max length =\", MAX_LENGTH)\n",
        "plt.title('Sequence length distribution')\n",
        "plt.hist(list(map(len, text_by_str)), bins=25)\n",
        "plt.show()\n",
        "\n",
        "# Lowercasing our new array\n",
        "text_by_str = [line.lower() for line in text_by_str]\n",
        "\n",
        "# All unique characters\n",
        "tokens = sorted(set(''.join(text_by_str)))\n",
        "tokens.extend(['<', '>', '_'])  # Adding special tokens\n",
        "num_tokens = len(tokens)\n",
        "print('num_tokens =', num_tokens)"
      ]
    },
    {
      "cell_type": "code",
      "execution_count": 4,
      "metadata": {
        "colab": {
          "base_uri": "https://localhost:8080/"
        },
        "id": "aA1ysQE6CseA",
        "outputId": "e80f67df-efe4-4e8c-8e7e-1832fdce3bba"
      },
      "outputs": [
        {
          "output_type": "stream",
          "name": "stdout",
          "text": [
            "[(' ', 0), ('!', 1), (\"'\", 2), ('(', 3), (')', 4), (',', 5), ('-', 6), ('.', 7), (':', 8), (';', 9)]\n",
            "[(30, 't'), (31, 'u'), (32, 'v'), (33, 'w'), (34, 'x'), (35, 'y'), (36, 'z'), (37, '<'), (38, '>'), (39, '_')]\n",
            "Seems alright!\n"
          ]
        }
      ],
      "source": [
        "# Создание словарей\n",
        "idx_to_token = {idx: token for idx, token in enumerate(tokens)}\n",
        "token_to_idx = {token: idx for idx, token in enumerate(tokens)}\n",
        "\n",
        "print(list(token_to_idx.items())[:10])\n",
        "print(list(idx_to_token.items())[-10:])\n",
        "\n",
        "# Проверка словарей\n",
        "assert len(tokens) == len(token_to_idx), \"dictionaries must have same size\"\n",
        "for i in range(num_tokens):\n",
        "    assert token_to_idx[tokens[i]] == i, \"token identifier must be its position in tokens list\"\n",
        "print(\"Seems alright!\")"
      ]
    },
    {
      "cell_type": "code",
      "execution_count": 5,
      "metadata": {
        "id": "EV0AuMkcCseD"
      },
      "outputs": [],
      "source": [
        "# Функция для создания матрицы из строк\n",
        "def to_matrix(text_by_str, max_len=None, pad=token_to_idx['_'], dtype='int32', batch_first=True):\n",
        "    \"\"\"Casts a list of text_by_str into rnn-digestable matrix\"\"\"\n",
        "    max_len = max_len or max(map(len, text_by_str))\n",
        "    max_len += 2  # Add 2 for start and end tokens\n",
        "    text_by_str_ix = np.zeros([len(text_by_str), max_len], dtype) + pad\n",
        "    text_by_str_ix[:, 0] = token_to_idx['<']\n",
        "\n",
        "    for i, line in enumerate(text_by_str):\n",
        "        line_ix = [token_to_idx[c] for c in line]\n",
        "        line_ix = line_ix[:max_len-2]  # Truncate if longer than max_len-2\n",
        "        text_by_str_ix[i, 1:len(line_ix)+1] = line_ix\n",
        "        text_by_str_ix[i, len(line_ix)+1] = token_to_idx['>']\n",
        "\n",
        "    if not batch_first:\n",
        "        text_by_str_ix = np.transpose(text_by_str_ix)\n",
        "\n",
        "    return text_by_str_ix"
      ]
    },
    {
      "cell_type": "markdown",
      "metadata": {
        "id": "F9BiDz07CseF"
      },
      "source": [
        "### Building the model"
      ]
    },
    {
      "cell_type": "markdown",
      "metadata": {
        "id": "AEN7J35zCseF"
      },
      "source": [
        "Now we want to build and train recurrent neural net which would be able to something similar to Shakespeare's poetry.\n",
        "\n",
        "Let's use vanilla RNN, similar to the one created during the lesson."
      ]
    },
    {
      "cell_type": "code",
      "execution_count": 6,
      "metadata": {
        "id": "duhd9jJHCseF"
      },
      "outputs": [],
      "source": [
        "# Определение модели RNN\n",
        "class CharRNNCell(nn.Module):\n",
        "    def __init__(self, num_tokens=len(tokens), embedding_size=32, rnn_num_units=64):\n",
        "        super().__init__()\n",
        "        self.num_units = rnn_num_units\n",
        "        self.embedding = nn.Embedding(num_tokens, embedding_size)\n",
        "        self.rnn_update = nn.Linear(embedding_size + rnn_num_units, rnn_num_units)\n",
        "        self.rnn_to_logits = nn.Linear(rnn_num_units, num_tokens)\n",
        "\n",
        "    def forward(self, x, h_prev):\n",
        "        x_emb = self.embedding(x)\n",
        "        x_and_h = torch.cat([x_emb, h_prev], dim=-1)\n",
        "        h_next = torch.tanh(self.rnn_update(x_and_h))\n",
        "        logits = self.rnn_to_logits(h_next)\n",
        "        return h_next, logits\n",
        "\n",
        "    def initial_state(self, batch_size):\n",
        "        return torch.zeros(batch_size, self.num_units, device=device, requires_grad=True)\n",
        "\n",
        "def rnn_loop(char_rnn, batch_ix):\n",
        "    batch_size, max_length = batch_ix.size()\n",
        "    hid_state = char_rnn.initial_state(batch_size)\n",
        "    logits = []\n",
        "    for x_t in batch_ix.transpose(0, 1):\n",
        "        hid_state, logits_next = char_rnn(x_t, hid_state)\n",
        "        logits.append(logits_next)\n",
        "    return torch.stack(logits, dim=1)\n",
        "\n",
        "char_rnn = CharRNNCell().to(device)"
      ]
    },
    {
      "cell_type": "markdown",
      "metadata": {
        "id": "v2m4AIvdCseI"
      },
      "source": [
        "### The training loop\n",
        "\n",
        "We train our char-rnn exactly the same way we train any deep learning model: by minibatch sgd.\n",
        "\n",
        "The only difference is that this time we sample strings, not images or sound."
      ]
    },
    {
      "cell_type": "code",
      "execution_count": 7,
      "metadata": {
        "colab": {
          "base_uri": "https://localhost:8080/",
          "height": 431
        },
        "id": "Gdoz1d-XCseI",
        "outputId": "39f1f679-576a-4794-fc81-c678a692a89b"
      },
      "outputs": [
        {
          "output_type": "display_data",
          "data": {
            "text/plain": [
              "<Figure size 640x480 with 1 Axes>"
            ],
            "image/png": "[encoded data removed]"
          },
          "metadata": {}
        }
      ],
      "source": [
        "# Обучение модели RNN\n",
        "from IPython.display import clear_output\n",
        "from random import sample\n",
        "\n",
        "char_rnn = CharRNNCell().to(device)\n",
        "opt = Adam(char_rnn.parameters())\n",
        "loss_func = nn.CrossEntropyLoss(ignore_index=token_to_idx['_'])\n",
        "history = []\n",
        "\n",
        "MAX_LENGTH = 50\n",
        "for i in range(500):\n",
        "    batch_ix = to_matrix(sample(text_by_str, 32), max_len=MAX_LENGTH)\n",
        "    batch_ix = torch.tensor(batch_ix, dtype=torch.int64).to(device)\n",
        "    logits_seq = rnn_loop(char_rnn, batch_ix)\n",
        "\n",
        "    loss = loss_func(\n",
        "        logits_seq[:, :-1].contiguous().view(-1, num_tokens),\n",
        "        batch_ix[:, 1:].contiguous().view(-1)\n",
        "    )\n",
        "\n",
        "    loss.backward()\n",
        "    opt.step()\n",
        "    opt.zero_grad()\n",
        "\n",
        "    history.append(loss.item())\n",
        "\n",
        "\n",
        "plt.plot(history, label='loss')\n",
        "plt.legend()\n",
        "plt.show()\n",
        "\n",
        "assert np.mean(history[:10]) > np.mean(history[-10:]), \"RNN didn't converge.\""
      ]
    },
    {
      "cell_type": "code",
      "source": [
        "# Function to generate text\n",
        "def generate_sample(char_rnn, seed_phrase='<', max_length=100, temperature=1.0):\n",
        "    x_sequence = torch.tensor([[token_to_idx[token] for token in seed_phrase]], dtype=torch.int64).to(device)\n",
        "    hid_state = char_rnn.initial_state(batch_size=1)\n",
        "\n",
        "    # Feed the seed phrase into the RNN\n",
        "    for i in range(len(seed_phrase) - 1):\n",
        "        hid_state, _ = char_rnn(x_sequence[:, i], hid_state)\n",
        "\n",
        "    # Start generating text\n",
        "    for _ in range(max_length - len(seed_phrase)):\n",
        "        hid_state, logits_next = char_rnn(x_sequence[:, -1], hid_state)\n",
        "\n",
        "        # Detach logits_next from the computation graph and convert to NumPy\n",
        "        p_next = F.softmax(logits_next / temperature, dim=-1).squeeze().detach().cpu().numpy()\n",
        "\n",
        "        # Sample next token based on probabilities\n",
        "        next_ix = np.random.choice(num_tokens, p=p_next)\n",
        "\n",
        "        # Append the sampled token to the sequence\n",
        "        x_sequence = torch.cat([x_sequence, torch.tensor([[next_ix]], dtype=torch.int64, device=device)], dim=1)\n",
        "\n",
        "        # Stop if end-of-sequence token is generated\n",
        "        if next_ix == token_to_idx['>']:\n",
        "            break\n",
        "\n",
        "    # Convert indices back to characters and join them into a string\n",
        "    return ''.join([idx_to_token[ix.item()] for ix in x_sequence[0]])\n",
        "\n",
        "# Example of generating text\n",
        "for _ in range(10):\n",
        "    print(generate_sample(char_rnn, temperature=0.5, max_length=100, seed_phrase='<'))"
      ],
      "metadata": {
        "colab": {
          "base_uri": "https://localhost:8080/"
        },
        "id": "PY1zZPJOIInU",
        "outputId": "ea264143-07c3-4a8b-eedd-899c7a280867"
      },
      "execution_count": 8,
      "outputs": [
        {
          "output_type": "stream",
          "name": "stdout",
          "text": [
            "< in the hit the on of no efurest the sould and thour the songe the sore the and cond me the and the\n",
            "< wher wire hear senden the bert the fat in in my the to deess in of in thind hat the preit the for \n",
            "< and the rall seart the in the arer in deas the art of me art he soth the to minge mare;>\n",
            "< cor sall song to for the the the sees not and ther to the all the the wis in that with thet in of \n",
            "< the my my heart the seis the prowes not on the of hat bet of the the yout in thell the med end for\n",
            "< though tee songer the ther in seal, hid for the sill the wise and the seat the love bet my and wig\n",
            "< o! the seat sear pay thee win whou sime the live my seas the of ast thou thour the wort art wore, \n",
            "< the thine with that in prast the songer muth to sweine will lave seall my for sath the sind in tho\n",
            "< thit the feat the seat my sies so that siour be with the tise the ar my sea>\n",
            "< the doth he and loves wher and seatart the of rore whet be love st is thou see in tres hete,>\n"
          ]
        }
      ]
    },
    {
      "cell_type": "markdown",
      "metadata": {
        "id": "Y56BNZtbCseL"
      },
      "source": [
        "### More poetic model\n",
        "\n",
        "Let's use LSTM instead of vanilla RNN and compare the results."
      ]
    },
    {
      "cell_type": "markdown",
      "metadata": {
        "id": "sdsvBBTACseL"
      },
      "source": [
        "Plot the loss function of the number of epochs. Does the final loss become better?"
      ]
    },
    {
      "cell_type": "code",
      "execution_count": 9,
      "metadata": {
        "colab": {
          "base_uri": "https://localhost:8080/",
          "height": 430
        },
        "id": "cWaQYF_rCseL",
        "outputId": "a7a7bc72-65ed-4d28-a932-b3f5417ae7ef"
      },
      "outputs": [
        {
          "output_type": "display_data",
          "data": {
            "text/plain": [
              "<Figure size 640x480 with 1 Axes>"
            ],
            "image/png": "[encoded data removed]"
          },
          "metadata": {}
        }
      ],
      "source": [
        "# Определение и обучение LSTM модели\n",
        "class CharLSTMLoop(nn.Module):\n",
        "    def __init__(self, num_tokens=num_tokens, emb_size=32, rnn_num_units=64):\n",
        "        super().__init__()\n",
        "        self.emb = nn.Embedding(num_tokens, emb_size)\n",
        "        self.lstm = nn.LSTM(emb_size, rnn_num_units, batch_first=True)\n",
        "        self.hid_to_logits = nn.Linear(rnn_num_units, num_tokens)\n",
        "\n",
        "    def forward(self, x):\n",
        "        h_seq, _ = self.lstm(self.emb(x))\n",
        "        next_logits = self.hid_to_logits(h_seq)\n",
        "        return F.log_softmax(next_logits, dim=-1)\n",
        "\n",
        "model = CharLSTMLoop().to(device)\n",
        "opt = Adam(model.parameters())\n",
        "history = []\n",
        "\n",
        "MAX_LENGTH = 100\n",
        "for i in range(200):\n",
        "    batch_ix = to_matrix(sample(text_by_str, 32), max_len=MAX_LENGTH)\n",
        "    batch_ix = torch.tensor(batch_ix, dtype=torch.int64).to(device)\n",
        "    logp_seq = model(batch_ix)\n",
        "\n",
        "    loss = F.nll_loss(logp_seq[:, :-1].contiguous().view(-1, num_tokens),\n",
        "                      batch_ix[:, 1:].contiguous().view(-1))\n",
        "\n",
        "    loss.backward()\n",
        "    opt.step()\n",
        "    opt.zero_grad()\n",
        "\n",
        "    history.append(loss.item())\n",
        "plt.plot(history, label=f'loss, epochs = {i+1}')\n",
        "plt.legend()\n",
        "plt.show()\n",
        "assert np.mean(history[:10]) > np.mean(history[-10:]), \"LSTM didn't converge.\""
      ]
    },
    {
      "cell_type": "code",
      "execution_count": 10,
      "metadata": {
        "colab": {
          "base_uri": "https://localhost:8080/"
        },
        "id": "O_sbTgiDCseM",
        "outputId": "b57ad01c-58b4-450b-f472-9d72f1fe2102"
      },
      "outputs": [
        {
          "output_type": "stream",
          "name": "stdout",
          "text": [
            "\n",
            "Temperature: 0.1\n",
            "< the the the the the the the the the the the the the the the the the the the the the the the the th\n",
            "\n",
            "Temperature: 0.5\n",
            "< fst tho the then is the ine aoon eor hhe aour weas sare jhe heere _ho ha otons a heee moare fe ahe\n",
            "\n",
            "Temperature: 1.0\n",
            "<i meoj arcm sagoo tees de'iat,ur felot_____________________________________________________________\n",
            "\n",
            "Temperature: 2.0\n",
            "<e(xsd'umi ay srssg.(nq'>\n"
          ]
        }
      ],
      "source": [
        "# Генерация текста с помощью LSTM\n",
        "def generate_sample_lstm(model, seed_phrase='<', max_length=MAX_LENGTH, temperature=1.0):\n",
        "    model.eval()  # Переключаем модель в режим оценки\n",
        "    with torch.no_grad():  # Отключаем вычисление градиентов\n",
        "        x_sequence = torch.tensor([[token_to_idx[token] for token in seed_phrase]], dtype=torch.int64).to(device)\n",
        "\n",
        "        for _ in range(max_length - len(seed_phrase)):\n",
        "            logits_next = model(x_sequence)[:, -1, :] / temperature\n",
        "            p_next = F.softmax(logits_next, dim=-1).squeeze().cpu().numpy()\n",
        "            next_ix = np.random.choice(num_tokens, p=p_next)\n",
        "            x_sequence = torch.cat([x_sequence, torch.tensor([[next_ix]], dtype=torch.int64, device=device)], dim=1)\n",
        "            if next_ix == token_to_idx['>']:\n",
        "                break\n",
        "\n",
        "    return ''.join([idx_to_token[ix.item()] for ix in x_sequence[0]])\n",
        "\n",
        "# Генерация примеров с разными температурами\n",
        "for temp in [0.1, 0.5, 1.0, 2.0]:\n",
        "    print(f\"\\nTemperature: {temp}\")\n",
        "    print(generate_sample_lstm(model, temperature=temp, max_length=100, seed_phrase='<'))"
      ]
    },
    {
      "cell_type": "markdown",
      "metadata": {
        "id": "8CuPUj-HCseN"
      },
      "source": [
        "### Saving and loading models"
      ]
    },
    {
      "cell_type": "markdown",
      "metadata": {
        "id": "9_Q4NV84CseN"
      },
      "source": [
        "Save the model to the disk, then load it and generate text. Examples are available [here](https://pytorch.org/tutorials/beginner/saving_loading_models.html])."
      ]
    },
    {
      "cell_type": "code",
      "execution_count": 11,
      "metadata": {
        "colab": {
          "base_uri": "https://localhost:8080/"
        },
        "id": "D7dbzg0eCseN",
        "outputId": "a862b297-2096-4b3d-d2bb-27ac4ddcb74b"
      },
      "outputs": [
        {
          "output_type": "stream",
          "name": "stdout",
          "text": [
            "Текст, сгенерированный загруженной моделью:\n",
            "< frae th the lotre toh mee aot>\n",
            "< aro>\n",
            "< the ea the a ihe tin th sh tih are thet ire ei ame oy atse ahae ther at th othe, sot the he thoe n\n"
          ]
        },
        {
          "output_type": "stream",
          "name": "stderr",
          "text": [
            "<ipython-input-11-7169250ef521>:7: FutureWarning: You are using `torch.load` with `weights_only=False` (the current default value), which uses the default pickle module implicitly. It is possible to construct malicious pickle data which will execute arbitrary code during unpickling (See https://github.com/pytorch/pytorch/blob/main/SECURITY.md#untrusted-models for more details). In a future release, the default value for `weights_only` will be flipped to `True`. This limits the functions that could be executed during unpickling. Arbitrary objects will no longer be allowed to be loaded via this mode unless they are explicitly allowlisted by the user via `torch.serialization.add_safe_globals`. We recommend you start setting `weights_only=True` for any use case where you don't have full control of the loaded file. Please open an issue on GitHub for any issues related to this experimental feature.\n",
            "  loaded_model.load_state_dict(torch.load(\"lstm_poetry_model.pth\"))\n"
          ]
        }
      ],
      "source": [
        "# Сохранение и загрузка моделей\n",
        "# Сохранение модели\n",
        "torch.save(model.state_dict(), \"lstm_poetry_model.pth\")\n",
        "\n",
        "# Загрузка модели\n",
        "loaded_model = CharLSTMLoop().to(device)\n",
        "loaded_model.load_state_dict(torch.load(\"lstm_poetry_model.pth\"))\n",
        "\n",
        "# Генерация текста с помощью загруженной модели\n",
        "print(\"Текст, сгенерированный загруженной моделью:\")\n",
        "for _ in range(3):\n",
        "    print(generate_sample_lstm(loaded_model, temperature=0.5, max_length=100, seed_phrase='<'))"
      ]
    }
  ],
  "metadata": {
    "anaconda-cloud": {},
    "kernelspec": {
      "display_name": "Python 3 (ipykernel)",
      "language": "python",
      "name": "python3"
    },
    "language_info": {
      "codemirror_mode": {
        "name": "ipython",
        "version": 3
      },
      "file_extension": ".py",
      "mimetype": "text/x-python",
      "name": "python",
      "nbconvert_exporter": "python",
      "pygments_lexer": "ipython3",
      "version": "3.11.5"
    },
    "colab": {
      "provenance": []
    }
  },
  "nbformat": 4,
  "nbformat_minor": 0
}